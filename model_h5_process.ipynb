{
 "cells": [
  {
   "cell_type": "code",
   "execution_count": 25,
   "id": "21113f9c-df55-404f-9c4d-1fe07cfd58f6",
   "metadata": {},
   "outputs": [],
   "source": [
    "import numpy as np\n",
    "import matplotlib.pyplot as plt"
   ]
  },
  {
   "cell_type": "code",
   "execution_count": 21,
   "id": "cec0bc6c-cb35-4c52-b443-945724798fd9",
   "metadata": {},
   "outputs": [],
   "source": [
    "import tensorflow as tf\n",
    "from tensorflow import keras"
   ]
  },
  {
   "cell_type": "code",
   "execution_count": 10,
   "id": "82420aa6-736c-48d2-a5c2-c12819a09ae7",
   "metadata": {},
   "outputs": [
    {
     "name": "stdout",
     "output_type": "stream",
     "text": [
      "Requirement already satisfied: h5py in c:\\users\\rodri\\desktop\\development\\tensor-flow-retinopatia-diabetica\\tfvenv\\lib\\site-packages (3.11.0)\n",
      "Requirement already satisfied: numpy>=1.17.3 in c:\\users\\rodri\\desktop\\development\\tensor-flow-retinopatia-diabetica\\tfvenv\\lib\\site-packages (from h5py) (1.26.4)\n"
     ]
    }
   ],
   "source": [
    "!pip install h5py"
   ]
  },
  {
   "cell_type": "code",
   "execution_count": 22,
   "id": "fbf3975c-4e2e-4eb3-817e-1952943f6624",
   "metadata": {},
   "outputs": [],
   "source": [
    "import h5py\n",
    "import keras.models as models"
   ]
  },
  {
   "cell_type": "code",
   "execution_count": 32,
   "id": "07c9c3e2-98b9-441d-9272-d0e5aabd4679",
   "metadata": {},
   "outputs": [
    {
     "data": {
      "text/plain": [
       "['model_weights', 'optimizer_weights']"
      ]
     },
     "execution_count": 32,
     "metadata": {},
     "output_type": "execute_result"
    }
   ],
   "source": [
    "f = h5py.File('kaggle_diabetic_retinopathy_model.h5', 'r')\n",
    "\n",
    "list(f.keys())\n"
   ]
  },
  {
   "cell_type": "code",
   "execution_count": 14,
   "id": "9f44a78e-f57a-41d3-b8eb-156d3c73b904",
   "metadata": {},
   "outputs": [
    {
     "data": {
      "text/plain": [
       "<HDF5 group \"/model_weights\" (11 members)>"
      ]
     },
     "execution_count": 14,
     "metadata": {},
     "output_type": "execute_result"
    }
   ],
   "source": [
    "dataset = f['model_weights']\n",
    "dataset"
   ]
  },
  {
   "cell_type": "code",
   "execution_count": 33,
   "id": "c2f7abaf-17aa-4a5e-8aed-3650ceffc399",
   "metadata": {},
   "outputs": [
    {
     "name": "stdout",
     "output_type": "stream",
     "text": [
      "Membro: conv2d\n",
      "Membro: conv2d_1\n",
      "Membro: conv2d_2\n",
      "Membro: dense\n",
      "Membro: dense_1\n",
      "Membro: dropout\n",
      "Membro: flatten\n",
      "Membro: max_pooling2d\n",
      "Membro: max_pooling2d_1\n",
      "Membro: max_pooling2d_2\n",
      "Membro: top_level_model_weights\n"
     ]
    }
   ],
   "source": [
    "for nome_membro in dataset.keys():\n",
    "  print(f\"Membro: {nome_membro}\")"
   ]
  },
  {
   "cell_type": "code",
   "execution_count": 34,
   "id": "6c6d9f93-add8-4b70-ae3d-4f6c8a7c9bfa",
   "metadata": {},
   "outputs": [
    {
     "name": "stdout",
     "output_type": "stream",
     "text": [
      "Valores do Dataset conv2d:\n",
      "<HDF5 group \"/model_weights/conv2d\" (1 members)>\n"
     ]
    }
   ],
   "source": [
    "# Acessar valores de um dataset\n",
    "nome_dataset = \"conv2d\"  # Exemplo de nome\n",
    "valores_dataset = dataset[nome_dataset]\n",
    "print(f\"Valores do Dataset {nome_dataset}:\")\n",
    "print(valores_dataset)"
   ]
  },
  {
   "cell_type": "code",
   "execution_count": 35,
   "id": "b87c846f-340c-4241-b22f-ec0a3f02daa9",
   "metadata": {},
   "outputs": [
    {
     "name": "stdout",
     "output_type": "stream",
     "text": [
      "Membro: sequential\n"
     ]
    }
   ],
   "source": [
    "for nome_membro in valores_dataset.keys():\n",
    "    print(f\"Membro: {nome_membro}\")"
   ]
  },
  {
   "cell_type": "code",
   "execution_count": 37,
   "id": "2be800c7-beb6-4c60-817f-8257fa143212",
   "metadata": {},
   "outputs": [
    {
     "name": "stdout",
     "output_type": "stream",
     "text": [
      "Valores do Dataset sequential:\n",
      "<HDF5 group \"/model_weights/conv2d/sequential\" (1 members)>\n"
     ]
    }
   ],
   "source": [
    "datasetnome_conv2 = \"sequential\"\n",
    "valores = valores_dataset[datasetnome_conv2]\n",
    "print(f\"Valores do Dataset {datasetnome_conv2}:\")\n",
    "print(valores)"
   ]
  },
  {
   "cell_type": "code",
   "execution_count": 38,
   "id": "1adbf9af-255d-4fad-8752-e34964066e66",
   "metadata": {},
   "outputs": [
    {
     "name": "stdout",
     "output_type": "stream",
     "text": [
      "Membro: conv2d\n"
     ]
    }
   ],
   "source": [
    "for nome_membro in valores.keys():\n",
    "    print(f\"Membro: {nome_membro}\")"
   ]
  },
  {
   "cell_type": "code",
   "execution_count": 39,
   "id": "0f7bd6f8-47eb-431c-beeb-85481d2b31ed",
   "metadata": {},
   "outputs": [
    {
     "name": "stdout",
     "output_type": "stream",
     "text": [
      "Valores do Dataset conv2d:\n",
      "<HDF5 group \"/model_weights/conv2d/sequential/conv2d\" (2 members)>\n"
     ]
    }
   ],
   "source": [
    "datasetnome_seq = \"conv2d\"\n",
    "valores1 = valores[datasetnome_seq]\n",
    "print(f\"Valores do Dataset {datasetnome_seq}:\")\n",
    "print(valores1)"
   ]
  },
  {
   "cell_type": "code",
   "execution_count": 40,
   "id": "8a05f304-dd3e-442d-83a4-af0ffdcf5162",
   "metadata": {},
   "outputs": [
    {
     "name": "stdout",
     "output_type": "stream",
     "text": [
      "Membro: bias\n",
      "Membro: kernel\n"
     ]
    }
   ],
   "source": [
    "for nome_membro in valores1.keys():\n",
    "    print(f\"Membro: {nome_membro}\")"
   ]
  },
  {
   "cell_type": "code",
   "execution_count": 81,
   "id": "9c8adb8e-e6c7-4e09-93d1-686df7ab581f",
   "metadata": {},
   "outputs": [],
   "source": [
    "subgrupo_conv2d = dataset['conv2d/sequential/conv2d']"
   ]
  },
  {
   "cell_type": "code",
   "execution_count": 82,
   "id": "c32e4bed-faed-4fa2-86af-1f5bde314ea2",
   "metadata": {},
   "outputs": [
    {
     "name": "stdout",
     "output_type": "stream",
     "text": [
      "Forma dos Pesos Conv2D: (3, 3, 3, 32)\n"
     ]
    }
   ],
   "source": [
    "pesos_conv2d = subgrupo_conv2d['kernel']\n",
    "print(f\"Forma dos Pesos Conv2D: {pesos_conv2d.shape}\")\n"
   ]
  },
  {
   "cell_type": "code",
   "execution_count": 83,
   "id": "ba868ad2-aa01-423c-aa7a-7744c924dc00",
   "metadata": {},
   "outputs": [
    {
     "name": "stdout",
     "output_type": "stream",
     "text": [
      "Forma dos Vieses Conv2D: (32,)\n"
     ]
    }
   ],
   "source": [
    "vieses_conv2d = subgrupo_conv2d['bias']\n",
    "print(f\"Forma dos Vieses Conv2D: {vieses_conv2d.shape}\")\n"
   ]
  },
  {
   "cell_type": "code",
   "execution_count": 84,
   "id": "9fbf17c8-bf9c-45c0-ad81-87ea147e0609",
   "metadata": {},
   "outputs": [
    {
     "name": "stdout",
     "output_type": "stream",
     "text": [
      "Estatísticas dos Pesos Conv2D:\n",
      "Média: 0.00204795622266829\n",
      "Mediana: 0.000927204207982868\n",
      "Desvio Padrão: 0.07585690915584564\n",
      "Mínimo: -0.14331014454364777\n",
      "Máximo: 0.14398126304149628\n",
      "\n",
      "Estatísticas dos Vieses Conv2D:\n",
      "Média: 0.0020118304528295994\n",
      "Mediana: 0.005988964810967445\n",
      "Desvio Padrão: 0.0057912711054086685\n",
      "Mínimo: -0.006106138229370117\n",
      "Máximo: 0.008555849082767963\n"
     ]
    }
   ],
   "source": [
    "# Analisar pesos\n",
    "print(f\"Estatísticas dos Pesos Conv2D:\")\n",
    "print(f\"Média: {np.mean(pesos_conv2d)}\")\n",
    "print(f\"Mediana: {np.median(pesos_conv2d)}\")\n",
    "print(f\"Desvio Padrão: {np.std(pesos_conv2d)}\")\n",
    "print(f\"Mínimo: {np.min(pesos_conv2d)}\")\n",
    "print(f\"Máximo: {np.max(pesos_conv2d)}\")\n",
    "\n",
    "# Visualizar distribuição dos pesos (histograma)\n",
    "# plt.hist(pesos_conv2d.flatten())\n",
    "# plt.xlabel('Valor do Peso')\n",
    "# plt.ylabel('Frequência')\n",
    "# plt.title('Distribuição de Pesos Conv2D')\n",
    "# plt.show()\n",
    "\n",
    "# Analisar vieses\n",
    "print(f\"\\nEstatísticas dos Vieses Conv2D:\")\n",
    "print(f\"Média: {np.mean(vieses_conv2d)}\")\n",
    "print(f\"Mediana: {np.median(vieses_conv2d)}\")\n",
    "print(f\"Desvio Padrão: {np.std(vieses_conv2d)}\")\n",
    "print(f\"Mínimo: {np.min(vieses_conv2d)}\")\n",
    "print(f\"Máximo: {np.max(vieses_conv2d)}\")\n",
    "\n",
    "# ... (visualizar distribuição dos vieses, correlações etc.)\n"
   ]
  },
  {
   "cell_type": "code",
   "execution_count": 85,
   "id": "929ddc3b-8ef6-4b0c-a2e5-279fb4515494",
   "metadata": {},
   "outputs": [
    {
     "data": {
      "text/plain": [
       "h5py._hl.dataset.Dataset"
      ]
     },
     "execution_count": 85,
     "metadata": {},
     "output_type": "execute_result"
    }
   ],
   "source": [
    "type(pesos_conv2d)"
   ]
  },
  {
   "cell_type": "code",
   "execution_count": 86,
   "id": "51a9f4d6-6f2a-40a3-94fd-1ff5a9c1ba31",
   "metadata": {},
   "outputs": [],
   "source": [
    "import pandas as pd\n",
    "\n",
    "df_vieses = pd.DataFrame(vieses_conv2d)\n",
    "\n",
    "df_vieses.to_csv('vieses_conv2d.csv', index=False)\n",
    "\n",
    "dados_vieses = pd.read_csv('vieses_conv2d.csv')\n",
    "dados_vieses = dados_vieses.to_numpy()"
   ]
  },
  {
   "cell_type": "code",
   "execution_count": 87,
   "id": "97126b21-7425-4095-bc14-631d7e1d6240",
   "metadata": {},
   "outputs": [
    {
     "data": {
      "image/png": "[encoded data removed]",
      "text/plain": [
       "<Figure size 640x480 with 1 Axes>"
      ]
     },
     "metadata": {},
     "output_type": "display_data"
    }
   ],
   "source": [
    "\n",
    "# Criar figura e eixo\n",
    "fig, ax = plt.subplots()\n",
    "\n",
    "# Plotar histograma\n",
    "ax.hist(dados_vieses.flatten(), color='blue', edgecolor='k')  # Personalizar cores\n",
    "\n",
    "# Personalizar aparência do gráfico\n",
    "ax.set_title('Distribuição de Vieses Conv2D')\n",
    "ax.set_xlabel('Valor do Vieses')\n",
    "ax.set_ylabel('Frequência')\n",
    "ax.grid(True)\n",
    "\n",
    "# Exibir o gráfico\n",
    "plt.show()"
   ]
  },
  {
   "cell_type": "code",
   "execution_count": 88,
   "id": "59cc850e-17aa-4671-baf7-5929f0e969c0",
   "metadata": {},
   "outputs": [],
   "source": [
    "import tensorflow as tf\n",
    "\n",
    "# Converter Dataset para tensor TensorFlow\n",
    "tensor_pesos = tf.convert_to_tensor(pesos_conv2d)\n",
    "\n",
    "# Visualizar o tensor\n",
    "array_pesos = tensor_pesos.numpy()"
   ]
  },
  {
   "cell_type": "code",
   "execution_count": 89,
   "id": "0536c91c-f5be-4ccf-9de9-810e2223f6d2",
   "metadata": {},
   "outputs": [
    {
     "data": {
      "image/png": "[encoded data removed]",
      "text/plain": [
       "<Figure size 1000x1000 with 2 Axes>"
      ]
     },
     "metadata": {},
     "output_type": "display_data"
    }
   ],
   "source": [
    "# Criar mapa de calor\n",
    "plt.figure(figsize=(10, 10))\n",
    "plt.imshow(array_pesos[0, :, :, 0], cmap='viridis', interpolation='nearest')\n",
    "plt.colorbar()\n",
    "plt.show()"
   ]
  },
  {
   "cell_type": "code",
   "execution_count": null,
   "id": "a4a36fcd-229b-4ddf-8f5d-72027946ef6f",
   "metadata": {},
   "outputs": [],
   "source": []
  }
 ],
 "metadata": {
  "kernelspec": {
   "display_name": "Python 3 (ipykernel)",
   "language": "python",
   "name": "python3"
  },
  "language_info": {
   "codemirror_mode": {
    "name": "ipython",
    "version": 3
   },
   "file_extension": ".py",
   "mimetype": "text/x-python",
   "name": "python",
   "nbconvert_exporter": "python",
   "pygments_lexer": "ipython3",
   "version": "3.12.3"
  }
 },
 "nbformat": 4,
 "nbformat_minor": 5
}
