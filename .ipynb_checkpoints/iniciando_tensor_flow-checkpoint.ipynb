{
 "cells": [
  {
   "cell_type": "code",
   "execution_count": null,
   "metadata": {
    "id": "kCh_LY_WVtnx"
   },
   "outputs": [],
   "source": [
    "import tensorflow as tf\n",
    "#conjunto de dados de imagens de digitos escrito à mão, possui o módulo especifico load_data() para carregar o conjunto\n",
    "from tensorflow.keras.datasets import mnist\n",
    "#submódulo 'models' que possui funções de criação e modelagem de modelos de redes neurais\n",
    "# 'Sequentials' classe que cria modelos de redes neurais sequenciais\n",
    "from tensorflow.keras.models import Sequential\n",
    "#'layers' possui classes para diferentes tipos de camadas usadas em redes neurais\n",
    "# 'Dense' classe feita para quee todos os neurônios da camada anterior fiquem conectados aos neurônios da camada atual.\n",
    "# 'Flatten' classe usada para converter dados de entrada em uma única dimensão, transformar imagens 2D em 1D\n",
    "from tensorflow.keras.layers import Dense, Flatten\n",
    "#'to_categorical' função para converter o vetor de inteiros(rótulos) em matriz binária no formato one-hot enconded([0,0,*1*])\n",
    "from tensorflow.keras.utils import to_categorical"
   ]
  },
  {
   "cell_type": "code",
   "execution_count": null,
   "metadata": {
    "colab": {
     "base_uri": "https://localhost:8080/"
    },
    "id": "5AGLPm4baZQj",
    "outputId": "ca1dbd92-7b4b-4bd5-a682-7e8b7608ff3e"
   },
   "outputs": [
    {
     "name": "stdout",
     "output_type": "stream",
     "text": [
      "Downloading data from https://storage.googleapis.com/tensorflow/tf-keras-datasets/mnist.npz\n",
      "11490434/11490434 [==============================] - 0s 0us/step\n"
     ]
    }
   ],
   "source": [
    "#carregamento do dataset importado \"mnist\"\n",
    "(x_train, y_train), (x_test, y_test) = mnist.load_data()\n",
    "\n",
    "#normalização os dados de pixel para valores entre 0, 1\n",
    "x_train, x_test = x_train / 255.0, x_test / 255.0\n",
    "\n",
    "#converter o eixo y para categoria 'one-hot encoded' para representar os vetores binários [0,0,1] || [1,0,0]\n",
    "y_train = to_categorical(y_train, 10)\n",
    "y_test = to_categorical(y_test, 10)"
   ]
  },
  {
   "cell_type": "code",
   "execution_count": null,
   "metadata": {
    "id": "uMTTanjWbZmk"
   },
   "outputs": [],
   "source": [
    "#definição do modelo\n",
    "model = Sequential(\n",
    "    [\n",
    "        Flatten(input_shape=(28,28)), #transformar imagem 2D (28x28 pixels) em um array 1D\n",
    "        Dense(128, activation='relu'), #camada densa com 128 neuronios e função de ativação ReLU\n",
    "        Dense(10, activation='softmax') #camada de saída com 10 neurônios (um para cada classe) e softmax\n",
    "    ]\n",
    ")\n",
    "\n",
    "#optimize = otimizador 'atam', um algoritmo de otimização utilizado em redes neurais devido a convergência e velocidade\n",
    "#loss = perda 'entropia cruzada categorizada', função de perda para medir o desempenho correto do modelo durante o treinamento\n",
    "#metrics = métrica 'acurácia', métrica de classificação e avaliação do modelo durante o treinamento. Mede a proporção de acertos pelo modelo...\n",
    "# em relação ao número total de exemplos\n",
    "# compilação do modelo\n",
    "model.compile(optimizer='adam',\n",
    "              loss='categorical_crossentropy',\n",
    "              metrics=['accuracy']\n",
    "              )"
   ]
  },
  {
   "cell_type": "code",
   "execution_count": null,
   "metadata": {
    "colab": {
     "base_uri": "https://localhost:8080/"
    },
    "id": "EBBK99QLcFZR",
    "outputId": "9fa2286f-3fb4-44e4-ba20-36bb722e9971"
   },
   "outputs": [
    {
     "name": "stdout",
     "output_type": "stream",
     "text": [
      "Epoch 1/5\n",
      "1875/1875 [==============================] - 7s 3ms/step - loss: 0.2555 - accuracy: 0.9267 - val_loss: 0.1314 - val_accuracy: 0.9603\n",
      "Epoch 2/5\n",
      "1875/1875 [==============================] - 7s 4ms/step - loss: 0.1143 - accuracy: 0.9661 - val_loss: 0.1029 - val_accuracy: 0.9691\n",
      "Epoch 3/5\n",
      "1875/1875 [==============================] - 7s 4ms/step - loss: 0.0799 - accuracy: 0.9755 - val_loss: 0.0895 - val_accuracy: 0.9731\n",
      "Epoch 4/5\n",
      "1875/1875 [==============================] - 6s 3ms/step - loss: 0.0591 - accuracy: 0.9818 - val_loss: 0.0790 - val_accuracy: 0.9755\n",
      "Epoch 5/5\n",
      "1875/1875 [==============================] - 7s 4ms/step - loss: 0.0456 - accuracy: 0.9857 - val_loss: 0.0713 - val_accuracy: 0.9778\n"
     ]
    },
    {
     "data": {
      "text/plain": [
       "<keras.src.callbacks.History at 0x795671bce8f0>"
      ]
     },
     "execution_count": 7,
     "metadata": {},
     "output_type": "execute_result"
    }
   ],
   "source": [
    "#model.fit\n",
    "# função do objeto model que realiza o treinamento da rede neural...\n",
    "# no treinamento os pesos da rede são colocados para diminuir a função de perda...\n",
    "# a função de perda é uma medida para avaliar a performance do modelo\n",
    "\n",
    "#x_train\n",
    "#contém as imagens de entrada do banco, ou seja, imagem dos digitos...\n",
    "#digitados à mão\n",
    "\n",
    "#y_train\n",
    "#possui as classes verdadeiras das imagens\n",
    "\n",
    "#epochs5\n",
    "#define 5 épocas, sendo as 5 épocas o número de interações completas no modelo...\n",
    "# em cada epoca o modelo ve todos os exemplos de treinamento de uma só vez\n",
    "\n",
    "#validation_data\n",
    "#armazenar os dados para avaliar o desempenho\n",
    "\n",
    "model.fit(x_train, y_train, epochs=5, validation_data=(x_test, y_test))"
   ]
  },
  {
   "cell_type": "code",
   "execution_count": null,
   "metadata": {
    "colab": {
     "base_uri": "https://localhost:8080/"
    },
    "id": "_noVyWkTcMUc",
    "outputId": "bbbfa823-2e81-4427-d255-f47bedcfda5b"
   },
   "outputs": [
    {
     "name": "stdout",
     "output_type": "stream",
     "text": [
      "313/313 - 1s - loss: 2.3969 - accuracy: 0.0838 - 670ms/epoch - 2ms/step\n",
      "\n",
      "Test accuracy: 0.08380000293254852\n"
     ]
    }
   ],
   "source": [
    "#model.evaluate\n",
    "# função do objeto model para avaliar o modelo de acordo com o conjunto de dados e...\n",
    "# entradas e rótulos. Na avaliação é feita previsões nos dados de entrada comparando...\n",
    "# com os rótulos verdadeiros para o calculo da perda e precisão\n",
    "\n",
    "#verbose=2\n",
    "# controla o nível de verbosidade da saída na avaliação. Definido como 2, de forma...\n",
    "# que a função de avaliação exiba informações incluindo a perda e precisão\n",
    "\n",
    "test_loss, test_acc = model.evaluate(x_test, y_test, verbose=2)\n",
    "print('\\nTest accuracy:', test_acc)"
   ]
  },
  {
   "cell_type": "code",
   "execution_count": null,
   "metadata": {
    "id": "cYrMCiByZ1xA"
   },
   "outputs": [],
   "source": []
  }
 ],
 "metadata": {
  "colab": {
   "provenance": []
  },
  "kernelspec": {
   "display_name": "Python 3 (ipykernel)",
   "language": "python",
   "name": "python3"
  },
  "language_info": {
   "name": "python"
  }
 },
 "nbformat": 4,
 "nbformat_minor": 4
}
